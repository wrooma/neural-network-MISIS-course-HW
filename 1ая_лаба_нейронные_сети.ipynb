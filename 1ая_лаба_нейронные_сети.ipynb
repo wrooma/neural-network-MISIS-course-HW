{
  "cells": [
    {
      "cell_type": "code",
      "execution_count": 2,
      "metadata": {
        "id": "9hTOjrLHi4g_"
      },
      "outputs": [],
      "source": [
        "import numpy as np \n",
        "import _pickle as cPickle\n",
        "import gzip\n",
        "import os\n",
        "from sklearn.utils import shuffle\n",
        "from tqdm import tqdm\n",
        "import matplotlib.pyplot as plt\n",
        "import time\n",
        "from IPython.display import clear_output\n",
        "from numpy import exp\n",
        "import random"
      ]
    },
    {
      "cell_type": "markdown",
      "metadata": {
        "id": "P2Gqyx4qi4hA"
      },
      "source": [
        "# Task 1. Fill `one_hot_encoded`, `check_accuracy` and `softmax` functions\n",
        "\n",
        "## 1.1 `One Hot Encoding`\n",
        "![OHE](https://media.geeksforgeeks.org/wp-content/uploads/20200716042622/vector.png)\n",
        "\n",
        "## 1.2 `Accuracy` function\n",
        "Shows share of correct predictions. \n",
        "\n",
        "\n",
        "## 1.3 `Softmax` function (see formula)\n",
        "  \n",
        "![Softmax](https://raw.githubusercontent.com/l3lush/nn_architecture_misis/fall2022/images/softmax.jpeg)"
      ]
    },
    {
      "cell_type": "code",
      "execution_count": 3,
      "metadata": {
        "id": "ErBETnrQi4hB"
      },
      "outputs": [],
      "source": [
        "# utility functions\n",
        "\n",
        "def one_hot_encoded(y):\n",
        "    num_of_classes = len(set(y))\n",
        "    hot_encoded = []\n",
        "\n",
        "    for elem in y:\n",
        "      temp = np.zeros(num_of_classes, dtype=int)\n",
        "      temp[elem] = 1\n",
        "      hot_encoded.append(temp)\n",
        "\n",
        "    return hot_encoded\n",
        "    \n",
        "\n",
        "def check_accuracy(y_true, y_pred):\n",
        "    num_of_samples = len(y_true)\n",
        "    num_of_correct = 0\n",
        "\n",
        "    for i in range(len(y_pred)):\n",
        "      if y_pred[i] == y_true[i]:\n",
        "        num_of_correct += 1\n",
        "\n",
        "    accuracy = num_of_correct / num_of_samples\n",
        "    \n",
        "    return accuracy \n",
        "\n",
        "\n",
        "def softmax(X):\n",
        "  arrays = []\n",
        "  for obs in X:\n",
        "    exp = np.exp(obs)\n",
        "    arrays.append(exp / exp.sum())\n",
        "  return np.concatenate([arrays])     \n",
        "\n",
        "# l2 regularization\n",
        "def l2_reg(layers, lam=0.001):\n",
        "    reg_loss = 0.0\n",
        "    for layer in layers:\n",
        "        if hasattr(layer, 'W'):\n",
        "            reg_loss += 0.5 * lam * np.sum(layer.W * layer.W)\n",
        "    return reg_loss\n",
        "\n",
        "\n",
        "# l2 regularization grad\n",
        "def delta_l2_reg(layers, grads, lam=0.001):\n",
        "    for layer, grad in zip(layers, reversed(grads)):\n",
        "        if hasattr(layer, 'W'):\n",
        "            grad[0] += lam * layer.W\n",
        "    return grads"
      ]
    },
    {
      "cell_type": "code",
      "execution_count": 4,
      "metadata": {
        "id": "Ik4HMyFlm8MQ"
      },
      "outputs": [],
      "source": [
        "example = np.array([0, 1, 2, 1, 3])\n",
        "answer = np.array([[1, 0, 0, 0],\n",
        "                   [0, 1, 0, 0],\n",
        "                   [0, 0, 1, 0],\n",
        "                   [0, 1, 0, 0],\n",
        "                   [0, 0, 0, 1]])\n",
        "assert np.array_equal(one_hot_encoded(example), answer)"
      ]
    },
    {
      "cell_type": "code",
      "execution_count": 5,
      "metadata": {
        "id": "ELx4GdzZi4hC"
      },
      "outputs": [],
      "source": [
        "example = np.array([[1.3, 5.1, 2.2, 0.7, 1.1]])\n",
        "answer = np.array([[0.02, 0.9 , 0.05, 0.01, 0.02]])\n",
        "assert np.isclose(softmax(example), answer, atol=1e-2).min()"
      ]
    },
    {
      "cell_type": "code",
      "execution_count": 6,
      "metadata": {
        "id": "aZDKA4Szi4hC"
      },
      "outputs": [],
      "source": [
        "y_true_example = np.array([1, 0, 0, 1, 0])\n",
        "y_pred_example = np.array([1, 1, 1, 0, 1])\n",
        "assert check_accuracy(y_true_example, y_pred_example) == 0.2"
      ]
    },
    {
      "cell_type": "code",
      "execution_count": 7,
      "metadata": {
        "id": "Q6IdYogni4hC"
      },
      "outputs": [],
      "source": [
        "def eval_numerical_gradient(f, x, verbose=False, h=0.00001):\n",
        "    \"\"\"Evaluates gradient df/dx via finite differences:\n",
        "    df/dx ~ (f(x+h) - f(x-h)) / 2h\n",
        "    Adopted from https://github.com/ddtm/dl-course/\n",
        "    \"\"\"\n",
        "    fx = f(x) # evaluate function value at original point\n",
        "    grad = np.zeros_like(x)\n",
        "    # iterate over all indexes in x\n",
        "    it = np.nditer(x, flags=['multi_index'], op_flags=['readwrite'])\n",
        "    while not it.finished:\n",
        "\n",
        "        # evaluate function at x+h\n",
        "        ix = it.multi_index\n",
        "        oldval = x[ix]\n",
        "        x[ix] = oldval + h # increment by h\n",
        "        fxph = f(x) # evalute f(x + h)\n",
        "        x[ix] = oldval - h\n",
        "        fxmh = f(x) # evaluate f(x - h)\n",
        "        x[ix] = oldval # restore\n",
        "\n",
        "        # compute the partial derivative with centered formula\n",
        "        grad[ix] = (fxph - fxmh) / (2 * h) # the slope\n",
        "        if verbose:\n",
        "            print (ix, grad[ix])\n",
        "        it.iternext() # step to next dimension\n",
        "\n",
        "    return grad"
      ]
    },
    {
      "cell_type": "markdown",
      "metadata": {
        "id": "A0vez1Rti4hD"
      },
      "source": [
        "# Task 2. Realize `ReLU` Class\n",
        "\n",
        "You need to realize these function:  \n",
        "  \n",
        "![ReLU Image](https://pytorch.org/docs/stable/_images/ReLU.png)"
      ]
    },
    {
      "cell_type": "code",
      "execution_count": 8,
      "metadata": {
        "id": "KHIbVQQHi4hD"
      },
      "outputs": [],
      "source": [
        "class ReLU():\n",
        "    def __init__(self):\n",
        "        self.params = []\n",
        "        self.gradInput = None\n",
        "        self.X = None\n",
        "\n",
        "    def forward(self, X, mode):\n",
        "        # TODO: realize forward pass of ReLU layer\n",
        "        # also save X value to self.X\n",
        "        # YOUR CODE HERE\n",
        "\n",
        "        A = np.maximum(0.0, X)\n",
        "        self.X = X\n",
        "\n",
        "        return A\n",
        "    \n",
        "    def backward(self, dout, mode):\n",
        "        # TODO: realize backward pass of ReLU layer\n",
        "        # dout - gradient from forward layer,\n",
        "\n",
        "        Z = self.X\n",
        "        dZ = np.array(dout)\n",
        "        dZ[Z <= 0] = 0\n",
        "        \n",
        "        self.gradInput = dZ\n",
        "         \n",
        "        return self.gradInput, []"
      ]
    },
    {
      "cell_type": "code",
      "execution_count": 9,
      "metadata": {
        "id": "oOGCh6-bi4hD",
        "colab": {
          "base_uri": "https://localhost:8080/"
        },
        "outputId": "079fc05c-f7e3-4c6f-d75a-048d9e5403d4"
      },
      "outputs": [
        {
          "output_type": "stream",
          "name": "stdout",
          "text": [
            "[[0. 0. 0. 0. 0. 0. 0. 0. 0. 0. 0. 0.]\n",
            " [0. 0. 0. 0. 0. 0. 0. 0. 0. 0. 0. 0.]\n",
            " [0. 0. 0. 0. 0. 0. 0. 0. 0. 0. 0. 0.]\n",
            " [0. 0. 0. 0. 0. 0. 0. 0. 0. 0. 0. 0.]\n",
            " [0. 0. 0. 0. 0. 0. 0. 0. 0. 0. 0. 0.]\n",
            " [1. 1. 1. 1. 1. 1. 1. 1. 1. 1. 1. 1.]\n",
            " [1. 1. 1. 1. 1. 1. 1. 1. 1. 1. 1. 1.]\n",
            " [1. 1. 1. 1. 1. 1. 1. 1. 1. 1. 1. 1.]\n",
            " [1. 1. 1. 1. 1. 1. 1. 1. 1. 1. 1. 1.]\n",
            " [1. 1. 1. 1. 1. 1. 1. 1. 1. 1. 1. 1.]]\n"
          ]
        }
      ],
      "source": [
        "points = np.linspace(-1, 1, 10*12).reshape([10, 12])\n",
        "relu = ReLU()\n",
        "f = lambda x: relu.forward(x, mode='train').sum(axis=1).sum()\n",
        "res = f(points)\n",
        "numeric_grads = eval_numerical_gradient(f, points)\n",
        "print(numeric_grads)\n",
        "inp_grad = np.ones(shape=(10, 12))\n",
        "grads = relu.backward(inp_grad, mode='train')[0]\n",
        "assert np.allclose(grads, numeric_grads, rtol=1e-3, atol=0)"
      ]
    },
    {
      "cell_type": "markdown",
      "metadata": {
        "id": "bU6LlXr_qeqP"
      },
      "source": [
        "# Task 3. Realize `Linear` class\n",
        "\n",
        "![Linear Forward](https://miro.medium.com/max/960/1*0lejoYyyQWjYzEP_BNW2nw.jpeg)\n",
        "  \n",
        "Forward pass formula:  \n",
        "$$ output = XW + B $$ \n",
        "In our realization there is **NO** need in transposing $ X $.\n",
        "  \n",
        "Backward pass formulas:  \n",
        "$$ dW = X^{T} \\cdot dZ $$\n",
        "$$ dB = \\frac{dZ}{m}$$\n",
        "$$ d(Input) = dZ \\cdot W^{T}$$\n",
        "where  \n",
        "$dZ$ - grad from forward layer,  \n",
        "$m$ - number of rows."
      ]
    },
    {
      "cell_type": "code",
      "execution_count": 10,
      "metadata": {
        "id": "N-IPpB29i4hE"
      },
      "outputs": [],
      "source": [
        "class Linear():\n",
        "    def __init__(self, in_size, out_size):\n",
        "        # Xavier init\n",
        "        self.W = np.random.randn(in_size, out_size) / np.sqrt(in_size + out_size/ 2.)\n",
        "        self.b = np.zeros((1, out_size))\n",
        "        self.params = [self.W, self.b]\n",
        "        self.gradW = None\n",
        "        self.gradB = None\n",
        "        self.gradInput = None\n",
        "\n",
        "    def forward(self, X, mode):\n",
        "        # TODO: realize forward pass for Linear Layer\n",
        "        # dont forget to save X in self.X\n",
        "        self.X = X\n",
        "        output = np.dot(self.X, self.W) + self.b \n",
        "        return output\n",
        "    \n",
        "    def backward(self, dout, mode):\n",
        "        m = len(dout)\n",
        "\n",
        "        dZ = dout\n",
        "\n",
        "        self.gradW = np.dot(self.X.T, dZ) \n",
        "        self.gradB = np.mean(dZ, axis=0) \n",
        "        self.gradInput = np.dot(dZ, self.W.T) \n",
        "\n",
        "        return self.gradInput, [self.gradW, self.gradB]"
      ]
    },
    {
      "cell_type": "code",
      "execution_count": 11,
      "metadata": {
        "id": "70g8Bvaji4hE",
        "colab": {
          "base_uri": "https://localhost:8080/"
        },
        "outputId": "4ff2c63f-f7ba-4d2f-8597-6169cb80441c"
      },
      "outputs": [
        {
          "output_type": "stream",
          "name": "stdout",
          "text": [
            "[[ 0.16538091  0.11877635  1.39488258  0.31198194 -0.8677335   0.61703146\n",
            "  -0.91834262 -0.20494016 -0.23137639  0.54108689 -1.30535727 -1.39902618]\n",
            " [ 0.16538091  0.11877635  1.39488258  0.31198194 -0.8677335   0.61703146\n",
            "  -0.91834262 -0.20494016 -0.23137639  0.54108689 -1.30535727 -1.39902618]\n",
            " [ 0.16538091  0.11877635  1.39488258  0.31198194 -0.8677335   0.61703146\n",
            "  -0.91834262 -0.20494016 -0.23137639  0.54108689 -1.30535727 -1.39902618]\n",
            " [ 0.16538091  0.11877635  1.39488258  0.31198194 -0.8677335   0.61703146\n",
            "  -0.91834262 -0.20494016 -0.23137639  0.54108689 -1.30535727 -1.39902618]\n",
            " [ 0.16538091  0.11877635  1.39488258  0.31198194 -0.8677335   0.61703146\n",
            "  -0.91834262 -0.20494016 -0.23137639  0.54108689 -1.30535727 -1.39902618]\n",
            " [ 0.16538091  0.11877635  1.39488258  0.31198194 -0.8677335   0.61703146\n",
            "  -0.91834262 -0.20494016 -0.23137639  0.54108689 -1.30535727 -1.39902618]\n",
            " [ 0.16538091  0.11877635  1.39488258  0.31198194 -0.8677335   0.61703146\n",
            "  -0.91834262 -0.20494016 -0.23137639  0.54108689 -1.30535727 -1.39902618]\n",
            " [ 0.16538091  0.11877635  1.39488258  0.31198194 -0.8677335   0.61703146\n",
            "  -0.91834262 -0.20494016 -0.23137639  0.54108689 -1.30535727 -1.39902618]\n",
            " [ 0.16538091  0.11877635  1.39488258  0.31198194 -0.8677335   0.61703146\n",
            "  -0.91834262 -0.20494016 -0.23137639  0.54108689 -1.30535727 -1.39902618]\n",
            " [ 0.16538091  0.11877635  1.39488258  0.31198194 -0.8677335   0.61703146\n",
            "  -0.91834262 -0.20494016 -0.23137639  0.54108689 -1.30535727 -1.39902618]]\n"
          ]
        }
      ],
      "source": [
        "points = np.linspace(-1, 1, 10*12).reshape([10, 12])\n",
        "linear = Linear(12, 5)\n",
        "f = lambda x: linear.forward(x, mode='train').sum(axis=1).sum()\n",
        "res = f(points)\n",
        "numeric_grads = eval_numerical_gradient(f, points)\n",
        "print(numeric_grads)\n",
        "inp_grad = np.ones(shape=(10, 5))\n",
        "grads = linear.backward(inp_grad, mode='train')[0]\n",
        "assert np.allclose(grads, numeric_grads, rtol=1e-3, atol=0)"
      ]
    },
    {
      "cell_type": "markdown",
      "metadata": {
        "id": "3L_EZ3oNyGVv"
      },
      "source": [
        "# Task 4. Realize `CrossEntropyLoss` class"
      ]
    },
    {
      "cell_type": "markdown",
      "metadata": {
        "id": "_U4-_srQdI_I"
      },
      "source": [
        "Cross Entropy Loss forward pass formula:\n",
        "$$ Loss = \\frac{1}{M} \\sum_{j=0}^{M}{\\sum_{i=0}^{N}{-y_{i}^{j}log(\\hat{y}_{i}^{j}) }} $$\n",
        "$M$ - number of observations in batch (see Task 5)  \n",
        "$N$ - number of classes  \n",
        "$y$ - true label of observation  \n",
        "$\\hat{y}$ - predicted label proba (softmax) of observation \n",
        "  \n",
        "Do backward pass formula for yourself (hint: you finally only need decrease all probas by 1 and devide it by m).\n"
      ]
    },
    {
      "cell_type": "code",
      "execution_count": 26,
      "metadata": {
        "id": "pX07daOii4hF"
      },
      "outputs": [],
      "source": [
        "class CrossEntropyLoss(object):\n",
        "    def forward(self, X, y):\n",
        "        # Hint: save y.shape and softmax probas\n",
        "        # it is need for backward pass\n",
        "        self.m = len(y)\n",
        "        self.p = softmax(X)\n",
        "\n",
        "        log = -np.log(self.p[range(self.m), y])\n",
        "        \n",
        "        return np.sum(log) / self.m\n",
        "\n",
        "    def backward(self, X, y):\n",
        "        dx = self.p.copy()\n",
        "        dx[range(self.m), y] -= 1\n",
        "        dx /= self.m\n",
        "        return dx"
      ]
    },
    {
      "cell_type": "code",
      "execution_count": 13,
      "metadata": {
        "id": "MQD9o8_Hb1bv"
      },
      "outputs": [],
      "source": [
        "example = np.array([[1, 2, 3], \n",
        "                    [4, 5, 6]])\n",
        "y_example = np.array([1, 0])\n",
        "celoss = CrossEntropyLoss()\n",
        "celoss.forward(example, y_example)\n",
        "assert round(celoss.forward(example, y_example), 5) == 1.90761"
      ]
    },
    {
      "cell_type": "markdown",
      "metadata": {
        "id": "ABTmpn9ki4hF"
      },
      "source": [
        "## NN implementation"
      ]
    },
    {
      "cell_type": "code",
      "execution_count": 27,
      "metadata": {
        "id": "PBjntjwIi4hF"
      },
      "outputs": [],
      "source": [
        "class NN():\n",
        "    def __init__(self, loss_func=CrossEntropyLoss(), mode = 'train'):\n",
        "        self.layers = []\n",
        "        self.params = []\n",
        "        self.loss_func = loss_func\n",
        "        self.grads = []\n",
        "        self.mode = mode\n",
        "\n",
        "    def add_layer(self,layer):\n",
        "        self.layers.append(layer)\n",
        "        self.params.append(layer.params)\n",
        "\n",
        "    def forward(self, X):\n",
        "        for layer in self.layers:\n",
        "            X = layer.forward(X, self.mode)\n",
        "\n",
        "        return X\n",
        "\n",
        "    def backward(self, dout):\n",
        "        self.clear_grad_param()\n",
        "        for layer in reversed(self.layers):\n",
        "\n",
        "            dout, grad = layer.backward(dout, self.mode)\n",
        "            self.grads.append(grad)\n",
        "        return self.grads\n",
        "\n",
        "    def train_step(self, X, y):\n",
        "        out = self.forward(X)\n",
        "        loss = self.loss_func.forward(out,y)\n",
        "        dout = self.loss_func.backward(out,y)\n",
        "        loss += l2_reg(self.layers)\n",
        "        grads = self.backward(dout)\n",
        "        grads = delta_l2_reg(self.layers, grads)\n",
        "        return loss, grads\n",
        "\n",
        "    def predict(self, X):\n",
        "        X = self.forward(X)\n",
        "        return np.argmax(softmax(X), axis=1)\n",
        "\n",
        "    def dispGradParam():\n",
        "        print(self.grads)\n",
        "    \n",
        "    def clear_grad_param(self):\n",
        "        self.grads = []"
      ]
    },
    {
      "cell_type": "markdown",
      "metadata": {
        "id": "3b-VmfLKmSFc"
      },
      "source": [
        "# Task 5. Realize `minibatch` function"
      ]
    },
    {
      "cell_type": "code",
      "execution_count": 28,
      "metadata": {
        "id": "RVwl_22hi4hG"
      },
      "outputs": [],
      "source": [
        "# SGD with momentum\n",
        "def update(velocity, params, grads, learning_rate=0.001, mu=0.9):\n",
        "    for v, p, g, in zip(velocity, params, reversed(grads)):\n",
        "        for i in range(len(g)):\n",
        "            v[i] = mu * v[i] + learning_rate * g[i]\n",
        "            p[i] -= v[i]\n",
        "\n",
        "\n",
        "# get minibatches\n",
        "def minibatch(X, y, minibatch_size):\n",
        "    \"\"\"\n",
        "    Cut X and y into minibatches and store it in \n",
        "    minibatched list like (X_batch, y_batch)\n",
        "    Example: [(X_batch1, y_batch1), (X_batch2, y_batch2)]\n",
        "\n",
        "    Note:\n",
        "    DO NOT FORGET TO SHUFFLE X AND Y\n",
        "    \"\"\"\n",
        "    #if len(X.shape) > 1:\n",
        "    #  X = np.concatenate(X)\n",
        "\n",
        "    minibatches = []\n",
        "    \n",
        "    for i in range(minibatch_size):\n",
        "      batch = (X[i], [y[i]])\n",
        "      minibatches.append(batch)\n",
        "\n",
        "    return minibatches"
      ]
    },
    {
      "cell_type": "code",
      "execution_count": 29,
      "metadata": {
        "id": "zGNajLrci4hG"
      },
      "outputs": [],
      "source": [
        "def plot_train_process(train_acc_list, val_acc_list, \n",
        "                       mean_train_loss_list, mean_val_loss_list):\n",
        "    fig, axes = plt.subplots(1, 2, figsize=(15, 5))\n",
        "\n",
        "    axes[0].set_title('Accuracy')\n",
        "    axes[1].set_title('Loss')\n",
        "    \n",
        "    axes[0].plot(train_acc_list, label='train')\n",
        "    axes[0].plot(val_acc_list, label='val')\n",
        "    axes[0].legend()\n",
        "    \n",
        "    axes[1].plot(mean_train_loss_list, label='train')\n",
        "    axes[1].plot(mean_val_loss_list, label='val')\n",
        "    axes[1].legend()\n",
        "    \n",
        "    plt.show()\n",
        "\n",
        "\n",
        "def train(net, X_train, y_train, minibatch_size, epoch, learning_rate, mu=0.9,\n",
        "                 verbose=True, X_val=None, y_val=None, nesterov=True, draw_each_iters=5):\n",
        "    val_loss_epoch = []\n",
        "    minibatches = minibatch(X_train, y_train, minibatch_size)\n",
        "    minibatches_val = minibatch(X_val, y_val, minibatch_size)\n",
        "\n",
        "    c = 0 \n",
        "\n",
        "    mean_train_loss_list = []\n",
        "    mean_val_loss_list = []\n",
        "    train_acc_list = []\n",
        "    val_acc_list = []\n",
        "    for n_iter in range(epoch):\n",
        "        loss_batch = []\n",
        "        val_loss_batch = []\n",
        "        velocity = []\n",
        "        for param_layer in net.params:\n",
        "            p = [np.zeros_like(param) for param in list(param_layer)]\n",
        "            velocity.append(p)\n",
        "\n",
        "        # iterate over mini batches\n",
        "        for X_mini, y_mini in minibatches:\n",
        "\n",
        "            loss, grads = net.train_step(X_mini, y_mini)\n",
        "            loss_batch.append(loss)\n",
        "            update(velocity, net.params, grads,\n",
        "                            learning_rate=learning_rate, mu=mu)\n",
        "\n",
        "        for X_mini_val, y_mini_val in minibatches_val:\n",
        "            val_loss, _ = net.train_step(X_mini, y_mini)\n",
        "            val_loss_batch.append(val_loss)\n",
        "\n",
        "\n",
        "        # accuracy of model at end of epoch after all mini batch updates   \n",
        "\n",
        "        if verbose:\n",
        "            m_train = X_train.shape[0]\n",
        "            m_val = X_val.shape[0]\n",
        "            y_train_pred = np.array([], dtype=\"int64\")\n",
        "            y_val_pred = np.array([], dtype=\"int64\")\n",
        "\n",
        "            for i in range(0, m_train, minibatch_size):\n",
        "                X_tr = X_train[i:i + minibatch_size, : ]\n",
        "                y_tr = y_train[i:i + minibatch_size, ]\n",
        "                y_train_pred = np.append(y_train_pred, net.predict(X_tr))\n",
        "\n",
        "            for i in range(0, m_val, minibatch_size):\n",
        "                X_va = X_val[i:i + minibatch_size, : ]\n",
        "                y_va = y_val[i:i + minibatch_size, ]\n",
        "                y_val_pred = np.append(y_val_pred, net.predict(X_va))\n",
        "\n",
        "            train_acc = check_accuracy(y_train, y_train_pred)\n",
        "            val_acc = check_accuracy(y_val, y_val_pred)\n",
        "\n",
        "            mean_train_loss = sum(loss_batch) / float(len(loss_batch))\n",
        "            mean_val_loss = sum(val_loss_batch) / float(len(val_loss_batch))\n",
        "            \n",
        "            train_acc_list.append(train_acc)\n",
        "            val_acc_list.append(val_acc)\n",
        "            \n",
        "            mean_train_loss_list.append(mean_train_loss)\n",
        "            mean_val_loss_list.append(mean_val_loss)\n",
        "\n",
        "            # early stopping with patience = 5 on val loss\n",
        "            if len(val_loss_epoch) == 0:\n",
        "                val_loss_epoch.append(mean_val_loss)\n",
        "            else:\n",
        "                for j in val_loss_epoch[-5:]:\n",
        "                    if mean_val_loss > j:\n",
        "                        c += 1\n",
        "                    else:\n",
        "                        c = 0\n",
        "                if c > 5:\n",
        "                    print('Early stopping')\n",
        "                    return net\n",
        "                else:\n",
        "                    c = 0\n",
        "                    val_loss_epoch.append(mean_val_loss)  \n",
        "                    \n",
        "            if n_iter % draw_each_iters == 0:\n",
        "                clear_output(True)\n",
        "                plot_train_process(train_acc_list, val_acc_list, \n",
        "                                   mean_train_loss_list, mean_val_loss_list)\n",
        "    return net"
      ]
    },
    {
      "cell_type": "markdown",
      "metadata": {
        "id": "dLWTlhGjLNr3"
      },
      "source": [
        "# Task 6. Make a net configuration for training example"
      ]
    },
    {
      "cell_type": "code",
      "source": [
        "def minibatch(X, y, minibatch_size):\n",
        "    \"\"\"\n",
        "    Cut X and y into minibatches and store it in \n",
        "    minibatched list like (X_batch, y_batch)\n",
        "    Example: [(X_batch1, y_batch1), (X_batch2, y_batch2)]\n",
        "\n",
        "    Note:\n",
        "    DO NOT FORGET TO SHUFFLE X AND Y\n",
        "    \"\"\"\n",
        "    minibatches = []\n",
        "    \n",
        "    shape = X.shape[0]\n",
        "\n",
        "    for i in range(0, shape, minibatch_size):\n",
        "      batch = (X[i:i+minibatch_size, ...], y[i:i+minibatch_size, ...])\n",
        "      minibatches.append(batch) \n",
        "\n",
        "    return minibatches"
      ],
      "metadata": {
        "id": "iyq_CF37c9V2"
      },
      "execution_count": 30,
      "outputs": []
    },
    {
      "cell_type": "code",
      "execution_count": 49,
      "metadata": {
        "id": "LEX10Itvi4hH",
        "colab": {
          "base_uri": "https://localhost:8080/",
          "height": 336
        },
        "outputId": "bad64435-bc9e-4ce5-da25-836383d3729e"
      },
      "outputs": [
        {
          "output_type": "display_data",
          "data": {
            "text/plain": [
              "<Figure size 1080x360 with 2 Axes>"
            ],
            "image/png": "[encoded data removed]"
          },
          "metadata": {
            "needs_background": "light"
          }
        }
      ],
      "source": [
        "# Get preprocessed training and validation data\n",
        "\n",
        "X_train = np.array([\n",
        "    [1, 2, 1, 2],\n",
        "    [2, 4, 2, 4],\n",
        "    [2, 1, 2, 1],\n",
        "    [4, 2, 4, 2],\n",
        "    [2, 1, 2, 1],\n",
        "    [4, 2, 4, 2]\n",
        "])\n",
        "\n",
        "y_train = np.array([0, 1, 0, 1, 0, 1])\n",
        "\n",
        "X_val = X_train.copy()\n",
        "y_val = y_train.copy()\n",
        "\n",
        "print(X_train.shape)\n",
        "print(X_val.shape)\n",
        "\n",
        "# define neural net\n",
        "model = NN()\n",
        "\n",
        "# add some layers (linear and ReLU)\n",
        "model.add_layer(Linear(4,100))\n",
        "model.add_layer(ReLU())\n",
        "model.add_layer(Linear(100,100))\n",
        "model.add_layer(ReLU())\n",
        "model.add_layer(Linear(100,2))\n",
        "\n",
        "model = train(model, X_train , y_train, minibatch_size=6, epoch=150,\n",
        "           learning_rate=0.1, X_val=X_val, y_val=y_val)"
      ]
    },
    {
      "cell_type": "markdown",
      "metadata": {
        "id": "guWYUc36i4hH"
      },
      "source": [
        "# Task 7. Make a net configuration for Mnist training"
      ]
    },
    {
      "cell_type": "code",
      "execution_count": 33,
      "metadata": {
        "id": "57Zov--yi4hI"
      },
      "outputs": [],
      "source": [
        "from sklearn.datasets import fetch_openml\n",
        "from sklearn.model_selection import train_test_split"
      ]
    },
    {
      "cell_type": "code",
      "execution_count": 34,
      "metadata": {
        "id": "pwmHnCEki4hI"
      },
      "outputs": [],
      "source": [
        "X, y = fetch_openml('mnist_784', version=1, return_X_y=True)"
      ]
    },
    {
      "cell_type": "code",
      "execution_count": 35,
      "metadata": {
        "id": "Kq1bvzMAi4hI"
      },
      "outputs": [],
      "source": [
        "y = y.astype(np.int32)\n",
        "X_train, X_val, y_train, y_val = train_test_split(X, y, \n",
        "                                                  test_size=0.25,\n",
        "                                                  shuffle=True,\n",
        "                                                  random_state=0)\n",
        "X_train = X_train.to_numpy()\n",
        "X_val = X_val.to_numpy()\n",
        "y_train = y_train.to_numpy()\n",
        "y_val = y_val.to_numpy()"
      ]
    },
    {
      "cell_type": "code",
      "execution_count": 36,
      "metadata": {
        "id": "CsgcptQXi4hJ",
        "colab": {
          "base_uri": "https://localhost:8080/",
          "height": 264
        },
        "outputId": "5dbec162-ef69-4065-8990-1317093fe28c"
      },
      "outputs": [
        {
          "output_type": "display_data",
          "data": {
            "text/plain": [
              "<Figure size 432x288 with 1 Axes>"
            ],
            "image/png": "[encoded data removed]"
          },
          "metadata": {
            "needs_background": "light"
          }
        }
      ],
      "source": [
        "# visualize data\n",
        "\n",
        "def vis(img, label):\n",
        "    plt.imshow(img, cmap='gray')\n",
        "    plt.title(label)\n",
        "    plt.axis('off')\n",
        "    plt.show()\n",
        "\n",
        "vis_idx = 0\n",
        "vis(X_val[vis_idx].reshape(-1, 28), y_val[vis_idx])"
      ]
    },
    {
      "cell_type": "code",
      "execution_count": 40,
      "metadata": {
        "id": "cRjpYs43i4hJ",
        "colab": {
          "base_uri": "https://localhost:8080/",
          "height": 336
        },
        "outputId": "bd7485a2-e2e8-4afe-d1f3-96602e40e66a"
      },
      "outputs": [
        {
          "output_type": "display_data",
          "data": {
            "text/plain": [
              "<Figure size 1080x360 with 2 Axes>"
            ],
            "image/png": "[encoded data removed]"
          },
          "metadata": {
            "needs_background": "light"
          }
        }
      ],
      "source": [
        "print(X_train.shape)\n",
        "print(X_val.shape)\n",
        "\n",
        "\n",
        "# define neural net\n",
        "model = NN()\n",
        "\n",
        "# add some layers\n",
        "model.add_layer(Linear(784,100))\n",
        "model.add_layer(ReLU())\n",
        "model.add_layer(Linear(100,100))\n",
        "model.add_layer(ReLU())\n",
        "model.add_layer(Linear(100,10))\n",
        "\n",
        "model = train(model, X_train, y_train, minibatch_size=128, epoch=50,\n",
        "           learning_rate=0.001, X_val=X_val, y_val=y_val, draw_each_iters=1)"
      ]
    },
    {
      "cell_type": "code",
      "execution_count": 41,
      "metadata": {
        "id": "GTMiMkpEi4hJ",
        "colab": {
          "base_uri": "https://localhost:8080/",
          "height": 264
        },
        "outputId": "d5ee818e-8d07-4fa8-d943-ed3d0565ab8b"
      },
      "outputs": [
        {
          "output_type": "display_data",
          "data": {
            "text/plain": [
              "<Figure size 432x288 with 1 Axes>"
            ],
            "image/png": "[encoded data removed]"
          },
          "metadata": {
            "needs_background": "light"
          }
        }
      ],
      "source": [
        "# visualize prediction \n",
        "\n",
        "vis_idx = 23\n",
        "pred = model.predict(X_val[vis_idx])\n",
        "vis(X_val[vis_idx].reshape(-1, 28), pred[0])"
      ]
    },
    {
      "cell_type": "markdown",
      "metadata": {
        "id": "8MiJaijgLNr5"
      },
      "source": [
        "# Extra* Task 8. Try to make you digit classification better by playing with neural net configuration (accuracy > 90%)"
      ]
    },
    {
      "cell_type": "code",
      "execution_count": null,
      "metadata": {
        "id": "o1lXbQ-2LNr5"
      },
      "outputs": [],
      "source": []
    }
  ],
  "metadata": {
    "colab": {
      "collapsed_sections": [],
      "provenance": []
    },
    "kernelspec": {
      "display_name": "nn_practice_venv",
      "language": "python",
      "name": "nn_practice_venv"
    },
    "language_info": {
      "codemirror_mode": {
        "name": "ipython",
        "version": 3
      },
      "file_extension": ".py",
      "mimetype": "text/x-python",
      "name": "python",
      "nbconvert_exporter": "python",
      "pygments_lexer": "ipython3",
      "version": "3.8.8"
    }
  },
  "nbformat": 4,
  "nbformat_minor": 0
}